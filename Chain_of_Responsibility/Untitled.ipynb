{
 "cells": [
  {
   "cell_type": "code",
   "execution_count": 1,
   "metadata": {},
   "outputs": [],
   "source": [
    "import Event\n",
    "from Qtrac import coroutine\n",
    "from eventhandler2 import *"
   ]
  },
  {
   "cell_type": "code",
   "execution_count": 2,
   "metadata": {},
   "outputs": [],
   "source": [
    "def main():\n",
    "    print(\"Handler Chain #1\")\n",
    "    pipeline = key_handler(mouse_handler(timer_handler()))\n",
    "    while True:\n",
    "        event = Event.next()\n",
    "        if event.kind == Event.TERMINATE:\n",
    "            break\n",
    "        pipeline.send(event)\n",
    "\n",
    "    print(\"\\nHandler Chain #2 (debugging)\")\n",
    "    pipeline = debug_handler(pipeline)\n",
    "    while True:\n",
    "        event = Event.next()\n",
    "        if event.kind == Event.TERMINATE:\n",
    "            break\n",
    "        pipeline.send(event)"
   ]
  },
  {
   "cell_type": "code",
   "execution_count": 3,
   "metadata": {},
   "outputs": [
    {
     "name": "stdout",
     "output_type": "stream",
     "text": [
      "Handler Chain #1\n",
      "Press:   Key Shift+b\n",
      "Click:   Button -1 (584, 223)\n",
      "Press:   Key l\n",
      "\n",
      "Handler Chain #2 (debugging)\n",
      "*DEBUG* Button -1 (505, 160)\n",
      "Click:   Button -1 (505, 160)\n",
      "*DEBUG* Button -1 (344, 357)\n",
      "Click:   Button -1 (344, 357)\n",
      "*DEBUG* Timer 0\n",
      "Timeout  Timer 0\n",
      "*DEBUG* Timer 1\n",
      "Timeout  Timer 1\n",
      "*DEBUG* Key Ctrl+Shift+f\n",
      "Press:   Key Ctrl+Shift+f\n",
      "*DEBUG* Button -1 (255, 91)\n",
      "Click:   Button -1 (255, 91)\n",
      "*DEBUG* Button -1 (49, 112)\n",
      "Click:   Button -1 (49, 112)\n",
      "*DEBUG* Key Ctrl+p\n",
      "Press:   Key Ctrl+p\n",
      "*DEBUG* Button -1 (189, 125)\n",
      "Click:   Button -1 (189, 125)\n",
      "*DEBUG* Key k\n",
      "Press:   Key k\n",
      "*DEBUG* Button -1 (239, 286)\n",
      "Click:   Button -1 (239, 286)\n"
     ]
    }
   ],
   "source": [
    "main()"
   ]
  },
  {
   "cell_type": "code",
   "execution_count": null,
   "metadata": {},
   "outputs": [],
   "source": []
  }
 ],
 "metadata": {
  "kernelspec": {
   "display_name": "Python 3",
   "language": "python",
   "name": "python3"
  },
  "language_info": {
   "codemirror_mode": {
    "name": "ipython",
    "version": 3
   },
   "file_extension": ".py",
   "mimetype": "text/x-python",
   "name": "python",
   "nbconvert_exporter": "python",
   "pygments_lexer": "ipython3",
   "version": "3.6.5"
  }
 },
 "nbformat": 4,
 "nbformat_minor": 2
}
